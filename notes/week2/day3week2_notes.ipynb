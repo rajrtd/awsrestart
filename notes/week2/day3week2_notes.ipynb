{
 "cells": [
  {
   "cell_type": "markdown",
   "metadata": {},
   "source": [
    "# Day 3 Week 2 Class Learning"
   ]
  },
  {
   "cell_type": "code",
   "execution_count": 1,
   "metadata": {},
   "outputs": [
    {
     "name": "stdout",
     "output_type": "stream",
     "text": [
      "1\n",
      "2\n",
      "3\n",
      "4\n"
     ]
    }
   ],
   "source": [
    "myList = [ 1, 2, 3, 4]\n",
    "newList = []\n",
    "# Can iterate thru a list\n",
    "for i in myList:\n",
    "    newName = i.upper()\n",
    "    newList.append(newName)\n",
    "    print(newName)\n",
    "print(newList)\n"
   ]
  },
  {
   "cell_type": "code",
   "execution_count": null,
   "metadata": {},
   "outputs": [],
   "source": [
    "myList = [\"Raj\", \"Finn\", \"Nick\", \"Amy\", \"Jacob\", \"Kat\"]\n",
    "\n",
    "newList = [i.upper() for i in myList] # list comprehension. i.upper() is being applied to each item on the list"
   ]
  },
  {
   "cell_type": "code",
   "execution_count": 2,
   "metadata": {},
   "outputs": [
    {
     "name": "stdout",
     "output_type": "stream",
     "text": [
      "[6.2, 11.2, 15.6, 19.0, 4.6]\n"
     ]
    }
   ],
   "source": [
    "myNumbers = [3.1, 5.6, 7.8, 9.5, 2.3]\n",
    "\n",
    "newNumbers = [2*i for i in myNumbers]\n",
    "\n",
    "print(newNumbers)"
   ]
  },
  {
   "cell_type": "code",
   "execution_count": 3,
   "metadata": {},
   "outputs": [
    {
     "ename": "SyntaxError",
     "evalue": "expected ':' (3040626217.py, line 1)",
     "output_type": "error",
     "traceback": [
      "\u001b[1;36m  Cell \u001b[1;32mIn[3], line 1\u001b[1;36m\u001b[0m\n\u001b[1;33m    for index, item in enumerate()\u001b[0m\n\u001b[1;37m                                  ^\u001b[0m\n\u001b[1;31mSyntaxError\u001b[0m\u001b[1;31m:\u001b[0m expected ':'\n"
     ]
    }
   ],
   "source": [
    "for index, item in enumerate()"
   ]
  },
  {
   "cell_type": "code",
   "execution_count": 6,
   "metadata": {},
   "outputs": [
    {
     "name": "stdout",
     "output_type": "stream",
     "text": [
      "1. Raj\n",
      "2. Finn\n",
      "3. Nick\n",
      "4. Amy\n",
      "5. Jacob\n",
      "6. Kat\n",
      "Raj\n"
     ]
    }
   ],
   "source": [
    "myList = [\"Raj\", \"Finn\", \"Nick\", \"Amy\", \"Jacob\", \"Kat\"]\n",
    "\n",
    "for index, item in enumerate(myList):\n",
    "    print(f\"{index + 1}. {item}\")\n",
    "\n",
    "print(myList[0])"
   ]
  },
  {
   "cell_type": "code",
   "execution_count": null,
   "metadata": {},
   "outputs": [],
   "source": [
    "myInfo = {\"name\": \"Raj\", \"age\": 24, \"height\": \"163cm\"}\n",
    "\n",
    "for key, value in myInfo.items():\n",
    "    print(f\"{key}. {value}\")\n"
   ]
  },
  {
   "cell_type": "markdown",
   "metadata": {},
   "source": [
    "Queues and Stacks\n",
    "\n",
    "Queue: FIFO - what's at the start of the queue is removed first, and something get's appended at the end of it.\n",
    "Stack: FILO - what gets popped first is what has been appended last in the queue.\n",
    "\n",
    "list is being used as a way to implement a stack and a queue "
   ]
  },
  {
   "cell_type": "code",
   "execution_count": 10,
   "metadata": {},
   "outputs": [
    {
     "name": "stdout",
     "output_type": "stream",
     "text": [
      "['item 1', 'item 2', 'item 3', 'item 4']\n",
      "['item 1']\n"
     ]
    }
   ],
   "source": [
    "myQueue = []\n",
    "myQueue.append(\"item 1\")\n",
    "myQueue.append(\"item 2\")\n",
    "myQueue.append(\"item 3\")\n",
    "myQueue.append(\"item 4\")\n",
    "print(myQueue)\n",
    "myQueue.pop()\n",
    "myQueue.pop()\n",
    "myQueue.pop()\n",
    "print(myQueue)"
   ]
  },
  {
   "cell_type": "code",
   "execution_count": 11,
   "metadata": {},
   "outputs": [
    {
     "name": "stdout",
     "output_type": "stream",
     "text": [
      "10\n",
      "152\n",
      "2468\n"
     ]
    }
   ],
   "source": [
    "def timesTwo(x):\n",
    "    return 2 * x\n",
    "\n",
    "print(timesTwo(5))\n",
    "print(timesTwo(76))\n",
    "print(timesTwo(1234))"
   ]
  },
  {
   "cell_type": "code",
   "execution_count": null,
   "metadata": {},
   "outputs": [],
   "source": [
    "def print_nicely(myString):\n",
    "    print(f\"Nicely printing {myString}\")\n",
    "\n"
   ]
  },
  {
   "cell_type": "code",
   "execution_count": 12,
   "metadata": {},
   "outputs": [
    {
     "name": "stdout",
     "output_type": "stream",
     "text": [
      "5\n"
     ]
    },
    {
     "data": {
      "text/plain": [
       "12"
      ]
     },
     "execution_count": 12,
     "metadata": {},
     "output_type": "execute_result"
    }
   ],
   "source": [
    "y = 5\n",
    "\n",
    "def timesTwo(x):\n",
    "    print(y)\n",
    "    return 2*x\n",
    "\n",
    "timesTwo(6)"
   ]
  },
  {
   "cell_type": "markdown",
   "metadata": {},
   "source": [
    "what does the f mean in the print statement below\n",
    "Below is used to learn the scope of variables"
   ]
  },
  {
   "cell_type": "code",
   "execution_count": 15,
   "metadata": {},
   "outputs": [
    {
     "name": "stdout",
     "output_type": "stream",
     "text": [
      "y = 6\n",
      "y = 5\n"
     ]
    }
   ],
   "source": [
    "y = 5\n",
    "\n",
    "def timesTwo(x):\n",
    "    y = x\n",
    "    print(f\"y = {y}\")\n",
    "    return 2*x\n",
    "\n",
    "timesTwo(6)\n",
    "print(f\"y = {y}\")"
   ]
  },
  {
   "cell_type": "markdown",
   "metadata": {},
   "source": [
    "homework, shift alphabet from left to right so A is B, if A is input B should be output, if Z is the input, make A the output\n",
    "\n",
    "caesar look up. Space characters, number characters stay the same, only letters change\n",
    "\n",
    "n = how many characters you want it to shift to the left\n",
    "\n",
    "make an encryption function and a decryption function"
   ]
  },
  {
   "cell_type": "code",
   "execution_count": null,
   "metadata": {},
   "outputs": [],
   "source": [
    "n = input(\"Enter a string\")"
   ]
  }
 ],
 "metadata": {
  "kernelspec": {
   "display_name": "Python 3",
   "language": "python",
   "name": "python3"
  },
  "language_info": {
   "codemirror_mode": {
    "name": "ipython",
    "version": 3
   },
   "file_extension": ".py",
   "mimetype": "text/x-python",
   "name": "python",
   "nbconvert_exporter": "python",
   "pygments_lexer": "ipython3",
   "version": "3.12.0"
  }
 },
 "nbformat": 4,
 "nbformat_minor": 2
}
