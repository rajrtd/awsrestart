{
 "cells": [
  {
   "cell_type": "code",
   "execution_count": 22,
   "metadata": {},
   "outputs": [
    {
     "name": "stdout",
     "output_type": "stream",
     "text": [
      "{'brand': 'Tesla', 'mileage_km': 11000, 'range': 399000}\n",
      "{'brand': 'Tesla', 'mileage_km': 14000, 'range': 396000}\n"
     ]
    }
   ],
   "source": [
    "class Car:\n",
    "    def __init__(self, brand, mileage_km):\n",
    "        self.brand=brand\n",
    "        self.mileage_km=mileage_km\n",
    "\n",
    "    def drive(self, distance_km):\n",
    "        self.mileage_km += distance_km\n",
    "\n",
    "my_car = Car(brand = \"Toyota\", mileage_km = 20000)\n",
    "\n",
    "class ElectricCar(Car):\n",
    "    def __init__(self, brand, mileage_km, range):\n",
    "        super().__init__(brand, mileage_km)\n",
    "        self.range=range\n",
    "\n",
    "    def drive(self, distance_km):\n",
    "        self.mileage_km += distance_km\n",
    "        self.range -= distance_km    \n",
    "    #pass # allows you to bypass having to define functions and classes\n",
    "\n",
    "my_ev = ElectricCar(brand = \"Tesla\", mileage_km = 10000, range=400000)\n",
    "my_ev.drive(1000)\n",
    "print(my_ev.__dict__)\n",
    "my_ev.drive(3000)\n",
    "print(my_ev.__dict__)\n",
    "\n",
    "class IceCar(Car):\n",
    "    def __init__(self, brand, mileage_km, fuel_consumption, fuel_level):\n",
    "        super().__init__(brand, mileage_km)\n",
    "        self.fuel_consumption = fuel_consumption\n",
    "        self.fuel_level = fuel_level\n",
    "\n",
    "    def drive(self, distance_km):\n",
    "        self.mileage_km += distance_km\n",
    "        self.fuel_level -= distance_km * self.fuel_consumption / 100\n",
    "\n",
    "\n",
    "my_ice_car = IceCar(brand = \"Ferrari\", mileage_km = 1000, fuel_consumption = 30, fuel_level = 33)"
   ]
  }
 ],
 "metadata": {
  "kernelspec": {
   "display_name": "Python 3",
   "language": "python",
   "name": "python3"
  },
  "language_info": {
   "codemirror_mode": {
    "name": "ipython",
    "version": 3
   },
   "file_extension": ".py",
   "mimetype": "text/x-python",
   "name": "python",
   "nbconvert_exporter": "python",
   "pygments_lexer": "ipython3",
   "version": "3.12.0"
  }
 },
 "nbformat": 4,
 "nbformat_minor": 2
}
