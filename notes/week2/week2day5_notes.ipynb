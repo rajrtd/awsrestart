{
 "cells": [
  {
   "cell_type": "code",
   "execution_count": null,
   "metadata": {},
   "outputs": [],
   "source": [
    "class Car: \n",
    "    pass # the reason you want this is because you just want to define the name of the class\n"
   ]
  },
  {
   "cell_type": "code",
   "execution_count": 8,
   "metadata": {},
   "outputs": [
    {
     "name": "stdout",
     "output_type": "stream",
     "text": [
      "<__main__.Car object at 0x000002A745531CD0>\n",
      "<__main__.Car object at 0x000002A7454ED940>\n"
     ]
    }
   ],
   "source": [
    "class Car:\n",
    "    def __init__(self, brand):\n",
    "        self.brand=brand\n",
    "\n",
    "\n",
    "my_car = Car(brand = \"Toyota\")\n",
    "print(my_car)\n",
    "\n",
    "your_car = Car(brand = \"Mercedes\")\n",
    "print(your_car)"
   ]
  },
  {
   "cell_type": "code",
   "execution_count": 44,
   "metadata": {},
   "outputs": [
    {
     "name": "stdout",
     "output_type": "stream",
     "text": [
      "{'brand': 'Toyota', 'mileage_km': 23000}\n"
     ]
    }
   ],
   "source": [
    "class Car:\n",
    "    def __init__(self, brand, mileage_km):\n",
    "        self.brand=brand\n",
    "        self.mileage_km=mileage_km\n",
    "\n",
    "    def drive(self, distance_km):\n",
    "        self.mileage_km += distance_km\n",
    "\n",
    "my_car = Car(brand = \"Toyota\", mileage_km = 20000)\n",
    "\n",
    "my_car.drive(distance_km=1000)\n",
    "my_car.drive(distance_km=1000)\n",
    "my_car.drive(distance_km=1000)\n",
    "\n",
    "print(my_car.__dict__)\n",
    "\n",
    "class ElectricCar(Car):\n",
    "    def __init__(self, brand, mileage_km, range):\n",
    "        super().__init__(brand, mileage_km)\n",
    "        self.range=range\n",
    "    #pass # allows you to bypass having to define functions and classes\n",
    "\n",
    "my_ev = ElectricCar(brand = \"Tesla\", mileage_km = 10000, range=\"400,000\")\n",
    "\n",
    "class IceCar(Car):\n",
    "    def __init__(self, brand, mileage_km, fuel_consumption, fuel_level):\n",
    "        super().__init(brand, mileage_km)\n",
    "        self.fuel_consumption = fuel_consumption\n",
    "        self.fuel_level = fuel_level\n",
    "\n",
    "ice_car = Ice_Car(brand=\"Ferrari\", mileage_km = 1000)\n",
    "ice_car.drive(distance_km=1000)\n"
   ]
  }
 ],
 "metadata": {
  "kernelspec": {
   "display_name": "Python 3",
   "language": "python",
   "name": "python3"
  },
  "language_info": {
   "codemirror_mode": {
    "name": "ipython",
    "version": 3
   },
   "file_extension": ".py",
   "mimetype": "text/x-python",
   "name": "python",
   "nbconvert_exporter": "python",
   "pygments_lexer": "ipython3",
   "version": "3.12.0"
  }
 },
 "nbformat": 4,
 "nbformat_minor": 2
}
