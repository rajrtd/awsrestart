{
 "cells": [
  {
   "cell_type": "markdown",
   "metadata": {},
   "source": [
    "store your data points, including - and | and empty space \" \" into a 2D list/array\n",
    "figure out how many columns & row you need (as an equation) to figure out the size of your 2D list/array\n",
    "figure out the 4 center points coordinate as you have higher n\n",
    "figure out where to place your columns + rows\n",
    "join all the data points of your 2D list array together, split lines where you need to split lines"
   ]
  },
  {
   "cell_type": "code",
   "execution_count": 185,
   "metadata": {},
   "outputs": [
    {
     "name": "stdout",
     "output_type": "stream",
     "text": [
      "[[5, None, None, None, None], [5, None, None, None, None], [5, None, None, None, None], [5, None, None, None, None], [5, None, None, None, None]]\n"
     ]
    }
   ],
   "source": [
    "import numpy as np\n",
    "#userInput = input(\"How big do you want the Tic-Tac-Toe board to be?\")\n",
    "# userInput = \"5\"\n",
    "\n",
    "# ticTacBoard = list([[]*int(userInput)]*int(userInput))\n",
    "\n",
    "# ticTacBoard = list()\n",
    "\n",
    "# test = [0] * int(userInput)\n",
    "\n",
    "ticTacToeBoard = list([[None]*5]*5)\n",
    "\n",
    "ticTacToeBoard[0][0] = 5\n",
    "\n",
    "print(ticTacToeBoard)"
   ]
  },
  {
   "cell_type": "code",
   "execution_count": null,
   "metadata": {},
   "outputs": [],
   "source": [
    "import numpy as np\n",
    "\n",
    "ticTacToeBoard = np.array([], ndmin = 2)\n",
    "\n",
    "print(ticTacToeBoard[0])\n",
    "\n"
   ]
  },
  {
   "cell_type": "code",
   "execution_count": null,
   "metadata": {},
   "outputs": [],
   "source": [
    "row = [0] * 20\n",
    "#column = [0] * 20\n",
    "userInput = input(\"How big do you want your tic-tac-toe board to be?\")\n",
    "userValue = int(userInput)\n",
    "\n",
    "for j in range(3):\n",
    "    for i in range(userValue):\n",
    "        row[i] = \" \"\n",
    "        userValue = row[i + 1] = \"|\"\n",
    "        i = userValue\n",
    "        userValue = userValue + 1\n",
    "\n",
    "print(row)\n"
   ]
  },
  {
   "cell_type": "code",
   "execution_count": 218,
   "metadata": {},
   "outputs": [
    {
     "ename": "TypeError",
     "evalue": "can only concatenate str (not \"int\") to str",
     "output_type": "error",
     "traceback": [
      "\u001b[1;31m---------------------------------------------------------------------------\u001b[0m",
      "\u001b[1;31mTypeError\u001b[0m                                 Traceback (most recent call last)",
      "\u001b[1;32mc:\\Users\\rajra\\git\\awsrestart\\week2day2_homework.ipynb Cell 5\u001b[0m line \u001b[0;36m1\n\u001b[0;32m      <a href='vscode-notebook-cell:/c%3A/Users/rajra/git/awsrestart/week2day2_homework.ipynb#X23sZmlsZQ%3D%3D?line=7'>8</a>\u001b[0m         userValue \u001b[39m=\u001b[39m row[i \u001b[39m+\u001b[39m \u001b[39m1\u001b[39m] \u001b[39m=\u001b[39m \u001b[39m\"\u001b[39m\u001b[39m|\u001b[39m\u001b[39m\"\u001b[39m\n\u001b[0;32m      <a href='vscode-notebook-cell:/c%3A/Users/rajra/git/awsrestart/week2day2_homework.ipynb#X23sZmlsZQ%3D%3D?line=8'>9</a>\u001b[0m         i \u001b[39m=\u001b[39m userValue\n\u001b[1;32m---> <a href='vscode-notebook-cell:/c%3A/Users/rajra/git/awsrestart/week2day2_homework.ipynb#X23sZmlsZQ%3D%3D?line=9'>10</a>\u001b[0m         userValue \u001b[39m=\u001b[39m userValue \u001b[39m+\u001b[39;49m \u001b[39m1\u001b[39;49m\n\u001b[0;32m     <a href='vscode-notebook-cell:/c%3A/Users/rajra/git/awsrestart/week2day2_homework.ipynb#X23sZmlsZQ%3D%3D?line=11'>12</a>\u001b[0m \u001b[39mprint\u001b[39m(row)\n",
      "\u001b[1;31mTypeError\u001b[0m: can only concatenate str (not \"int\") to str"
     ]
    }
   ],
   "source": [
    "row = [0] * 20\n",
    "userInput = input(\"How big do you want your tic-tac-toe board to be?\")\n",
    "userValue = int(userInput)\n",
    "\n",
    "\n",
    "\n",
    "for j in range(3):\n",
    "    for i in range(userValue):\n",
    "        row[i] = \" \"\n",
    "        userValue = row[i + 1] = \"|\"\n",
    "        i = userValue\n",
    "        userValue = userValue + 1\n",
    "\n",
    "print(row)\n"
   ]
  },
  {
   "cell_type": "code",
   "execution_count": 220,
   "metadata": {},
   "outputs": [
    {
     "name": "stdout",
     "output_type": "stream",
     "text": [
      "pineapple\n"
     ]
    }
   ],
   "source": [
    "test = [\"apple\", \"banana\", \"pineapple\"]\n",
    "test[0]\n",
    "test[1]\n",
    "\n",
    "test = {\"yum\": \"banana\", \"yuck\": \"apple\", \"mid\": \"pineapple\"}\n",
    "test[\"yuck\"]\n",
    "print(test[\"mid\"])"
   ]
  }
 ],
 "metadata": {
  "kernelspec": {
   "display_name": "Python 3",
   "language": "python",
   "name": "python3"
  },
  "language_info": {
   "codemirror_mode": {
    "name": "ipython",
    "version": 3
   },
   "file_extension": ".py",
   "mimetype": "text/x-python",
   "name": "python",
   "nbconvert_exporter": "python",
   "pygments_lexer": "ipython3",
   "version": "3.12.0"
  }
 },
 "nbformat": 4,
 "nbformat_minor": 2
}
