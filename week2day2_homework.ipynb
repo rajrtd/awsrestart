{
 "cells": [
  {
   "cell_type": "markdown",
   "metadata": {},
   "source": [
    "# Nick's Hints\n",
    "\n",
    "store your data points, including - and | and empty space \" \" into a 2D list/array\n",
    "figure out how many columns & row you need (as an equation) to figure out the size of your 2D list/array\n",
    "figure out the 4 center points coordinate as you have higher n\n",
    "figure out where to place your columns + rows\n",
    "join all the data points of your 2D list array together, split lines where you need to split lines"
   ]
  },
  {
   "cell_type": "markdown",
   "metadata": {},
   "source": [
    "The Below 3 code cells is my attempt at creating a 2D array to store the data points in"
   ]
  },
  {
   "cell_type": "code",
   "execution_count": null,
   "metadata": {},
   "outputs": [],
   "source": [
    "import numpy as np\n",
    "userInput = input(\"How big do you want the Tic-Tac-Toe board to be?\")\n",
    "userInput = \"5\"\n",
    "\n",
    "ticTacBoard = list([[]*int(userInput)]*int(userInput))\n",
    "\n",
    "ticTacBoard = list()\n",
    "\n",
    "test = [0] * int(userInput)\n",
    "\n",
    "ticTacToeBoard = list([[None]*5]*5)\n",
    "\n",
    "ticTacToeBoard[0][0] = 5\n",
    "\n",
    "print(ticTacToeBoard)"
   ]
  },
  {
   "cell_type": "code",
   "execution_count": null,
   "metadata": {},
   "outputs": [],
   "source": [
    "import numpy as np\n",
    "\n",
    "ticTacToeBoard = np.array([], ndmin = 2)\n",
    "\n",
    "print(ticTacToeBoard[0])"
   ]
  },
  {
   "cell_type": "code",
   "execution_count": null,
   "metadata": {},
   "outputs": [],
   "source": [
    "row = [0] * 20\n",
    "column = [0] * 20\n",
    "userInput = input(\"How big do you want your tic-tac-toe board to be?\")\n",
    "userValue = int(userInput)\n",
    "\n",
    "for j in range(3):\n",
    "    for i in range(userValue):\n",
    "        row[i] = \" \"\n",
    "        userValue = row[i + 1] = \"|\"\n",
    "        i = userValue\n",
    "        userValue = userValue + 1\n",
    "\n",
    "print(row)"
   ]
  },
  {
   "cell_type": "markdown",
   "metadata": {},
   "source": [
    "This is my attempt just using print statements and nesting for loops to print out the tic-tac-toe board\n",
    "\n",
    "I realized that a lot of the code is similar, so I could simplify it and make them functions"
   ]
  },
  {
   "cell_type": "code",
   "execution_count": null,
   "metadata": {},
   "outputs": [],
   "source": [
    "userInput = input(\"What size do you want your tic-tac-toe board to be?\")\n",
    "\n",
    "# Printing top section of the board\n",
    "for pipeRows in range(int(userInput)):\n",
    "    for pipes in range(2):\n",
    "        for emptySpaces in range(int(userInput)):\n",
    "            print(end = \" \") #prints empty spaces userInput amount of times\n",
    "        print(\"|\", end = \"\") #prints a pipe after it's finished printing an empty space userInput amount of times, then goes back to\n",
    "    print() # goes to the next line userInput amount of times\n",
    "\n",
    "#printing middle section of the board\n",
    "for hyphenSpacing in range(3):\n",
    "    for hyphenRow in range(int(userInput)):\n",
    "        print(\"-\", end = \"\")\n",
    "    print(\"\", end = \" \")\n",
    "print()\n",
    "\n",
    "# Printing top section of the board\n",
    "for pipeRows in range(int(userInput)):\n",
    "    for pipes in range(2):\n",
    "        for emptySpaces in range(int(userInput)):\n",
    "            print(end = \" \") #prints empty spaces userInput amount of times\n",
    "        print(\"|\", end = \"\") #prints a pipe after it's finished printing an empty space userInput amount of times, then goes back to\n",
    "    print() # goes to the next line userInput amount of times\n",
    "\n",
    "#printing middle section of the board\n",
    "for hyphenSpacing in range(3):\n",
    "    for hyphenRow in range(int(userInput)):\n",
    "        print(\"-\", end = \"\")\n",
    "    print(\"\", end = \" \")\n",
    "print()\n",
    "\n",
    "# Printing top section of the board\n",
    "for pipeRows in range(int(userInput)):\n",
    "    for pipes in range(2):\n",
    "        for emptySpaces in range(int(userInput)):\n",
    "            print(end = \" \") #prints empty spaces userInput amount of times\n",
    "        print(\"|\", end = \"\") #prints a pipe after it's finished printing an empty space userInput amount of times, then goes back to\n",
    "    print() # goes to the next line userInput amount of times"
   ]
  },
  {
   "cell_type": "code",
   "execution_count": null,
   "metadata": {},
   "outputs": [],
   "source": [
    "def printPipes(input):\n",
    "    for pipeRows in range(int(input)):\n",
    "        for pipes in range(2):\n",
    "            for emptySpaces in range(int(input)):\n",
    "                print(end = \" \") #prints empty spaces userInput amount of times\n",
    "            print(\"|\", end = \"\") #prints a pipe after it's finished printing an empty space userInput amount of times, then goes back to\n",
    "        print() # goes to the next line userInput amount of times"
   ]
  },
  {
   "cell_type": "code",
   "execution_count": null,
   "metadata": {},
   "outputs": [],
   "source": [
    "def printHyphens(input):\n",
    "    for hyphenSpacing in range(3):\n",
    "        for hyphenRow in range(int(input)):\n",
    "            print(\"-\", end = \"\")\n",
    "        print(\"\", end = \" \")\n",
    "    print()"
   ]
  },
  {
   "cell_type": "markdown",
   "metadata": {},
   "source": [
    "I saw more repetition in my code below, so I decided to simplify even further"
   ]
  },
  {
   "cell_type": "code",
   "execution_count": null,
   "metadata": {},
   "outputs": [],
   "source": [
    "n = input(\"How big do you want your tic-tac-toe board? (Enter an integer)\")\n",
    "\n",
    "printPipes(n)\n",
    "printHyphens(n)\n",
    "printPipes(n)\n",
    "printHyphens(n)\n",
    "printPipes(n)"
   ]
  },
  {
   "cell_type": "markdown",
   "metadata": {},
   "source": [
    "Created a printBoard function to remove the repetition of going back and forth printing the pipes and hyphens, so I put it in a for loop"
   ]
  },
  {
   "cell_type": "code",
   "execution_count": 196,
   "metadata": {},
   "outputs": [],
   "source": [
    "def printBoard(size):\n",
    "    for i in range(2):\n",
    "        printPipes(size)\n",
    "        printHyphens(size)\n",
    "    printPipes(size)"
   ]
  },
  {
   "cell_type": "markdown",
   "metadata": {},
   "source": [
    "Simplest Form:"
   ]
  },
  {
   "cell_type": "code",
   "execution_count": null,
   "metadata": {},
   "outputs": [],
   "source": [
    "n = input(\"How large do you want your tic-tac-toe board to be?\")\n",
    "printBoard(n)"
   ]
  }
 ],
 "metadata": {
  "kernelspec": {
   "display_name": "Python 3",
   "language": "python",
   "name": "python3"
  },
  "language_info": {
   "codemirror_mode": {
    "name": "ipython",
    "version": 3
   },
   "file_extension": ".py",
   "mimetype": "text/x-python",
   "name": "python",
   "nbconvert_exporter": "python",
   "pygments_lexer": "ipython3",
   "version": "3.12.0"
  }
 },
 "nbformat": 4,
 "nbformat_minor": 2
}
