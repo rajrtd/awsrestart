{
 "cells": [
  {
   "cell_type": "code",
   "execution_count": 4,
   "metadata": {},
   "outputs": [
    {
     "name": "stdout",
     "output_type": "stream",
     "text": [
      "Hello World\n"
     ]
    }
   ],
   "source": [
    "print(\"Hello World\")"
   ]
  },
  {
   "cell_type": "code",
   "execution_count": 5,
   "metadata": {},
   "outputs": [
    {
     "name": "stdout",
     "output_type": "stream",
     "text": [
      "\n"
     ]
    }
   ],
   "source": [
    "a = input(\"What's your name?\")\n",
    "print(a)"
   ]
  },
  {
   "cell_type": "code",
   "execution_count": 6,
   "metadata": {},
   "outputs": [
    {
     "data": {
      "text/plain": [
       "str"
      ]
     },
     "execution_count": 6,
     "metadata": {},
     "output_type": "execute_result"
    }
   ],
   "source": [
    "j = \"hello world\"\n",
    "j\n",
    "type(j)"
   ]
  },
  {
   "cell_type": "code",
   "execution_count": 7,
   "metadata": {},
   "outputs": [
    {
     "name": "stdout",
     "output_type": "stream",
     "text": [
      "raj rathod\n",
      "RAJ RATHOD\n"
     ]
    }
   ],
   "source": [
    "name = \"raj rathod\"\n",
    "print(name.lower())\n",
    "print(name.upper())"
   ]
  },
  {
   "cell_type": "code",
   "execution_count": 8,
   "metadata": {},
   "outputs": [
    {
     "name": "stdout",
     "output_type": "stream",
     "text": [
      "[1, 2, 3, 4, ['Raj', 'Rathod']]\n",
      "2\n"
     ]
    }
   ],
   "source": [
    "testList = [1, 2, 3, 4, [\"Raj\", \"Rathod\"]]\n",
    "#print(l[4][1])\n",
    "testList[-1] #-1 from the right to left\n",
    "testList[-2] # -2 from right to left, so this would be number 4\n",
    "len(testList)\n",
    "\n",
    "print(testList)\n",
    "\n",
    "print(len(testList[4]))"
   ]
  },
  {
   "cell_type": "code",
   "execution_count": 9,
   "metadata": {},
   "outputs": [
    {
     "data": {
      "text/plain": [
       "'!'"
      ]
     },
     "execution_count": 9,
     "metadata": {},
     "output_type": "execute_result"
    }
   ],
   "source": [
    "string = \"this is a string!\"\n",
    "string[0:4]\n",
    "string[5:7]\n",
    "string[16:17]"
   ]
  },
  {
   "cell_type": "code",
   "execution_count": 10,
   "metadata": {},
   "outputs": [
    {
     "name": "stdout",
     "output_type": "stream",
     "text": [
      "test\n"
     ]
    },
    {
     "data": {
      "text/plain": [
       "'String'"
      ]
     },
     "execution_count": 10,
     "metadata": {},
     "output_type": "execute_result"
    }
   ],
   "source": [
    "listTwo = [True]\n",
    "\n",
    "listTwo.append(\"String\") #adds to the end of the list\n",
    "\n",
    "listTwo.insert(0, \"test\") # use this to insert values at a specific place in the list\n",
    "\n",
    "print(listTwo[0])\n",
    "\n",
    "listTwo.pop() #removes what's at the last index of the list"
   ]
  },
  {
   "cell_type": "code",
   "execution_count": 39,
   "metadata": {},
   "outputs": [
    {
     "name": "stdout",
     "output_type": "stream",
     "text": [
      "[6, 5, 3, 2, 1, 0]\n"
     ]
    }
   ],
   "source": [
    "numberList = [0, 1, 5, 3, 2, 6]\n",
    "\n",
    "numberList.sort()\n",
    "\n",
    "numberList.sort(reverse=True) # Gives reverse sorted order of list from biggest to smallest.\n",
    "print(numberList)"
   ]
  },
  {
   "cell_type": "code",
   "execution_count": 40,
   "metadata": {},
   "outputs": [
    {
     "name": "stdout",
     "output_type": "stream",
     "text": [
      "[0, 1, 2, 3, 5, 6]\n",
      "[0, 1, 5, 3, 2, 6]\n"
     ]
    },
    {
     "name": "stdout",
     "output_type": "stream",
     "text": [
      "How old are you? 5\n"
     ]
    }
   ],
   "source": [
    "numberList = [0, 1, 5, 3, 2, 6]\n",
    "\n",
    "print(sorted(numberList)) # the list is printed in order but the actual list values haven't been changed\n",
    "print(numberList) # the actual list hasn't been changed\n",
    "\n",
    "print(\"How old are you?\", input())"
   ]
  },
  {
   "cell_type": "code",
   "execution_count": 42,
   "metadata": {},
   "outputs": [
    {
     "name": "stdout",
     "output_type": "stream",
     "text": [
      "In a year you will be {some_input}\n"
     ]
    }
   ],
   "source": [
    "some_input = input()\n",
    "print(\"In a year you will be\" +str(some_input))\n",
    "# the line below and above are the same\n",
    "print(f\"In a year you will be {some_input}\") # anything in curly braces gets turned into a string. String interpolation syntax. f is flushing the string value. Force evaluation into string.\n",
    "# string interpolation is an easier form of getting something as a string.\n",
    "#  "
   ]
  },
  {
   "cell_type": "code",
   "execution_count": 44,
   "metadata": {},
   "outputs": [
    {
     "name": "stdout",
     "output_type": "stream",
     "text": [
      "61\n"
     ]
    }
   ],
   "source": [
    "HOURLY_SALARY = 50 # way to define a constant\n",
    "\n",
    "from typing import Final\n",
    "\n",
    "NEW_HOURLY_SALARY:Final[int] = 60\n",
    "# variable needs to be in all caps to be set as a constant variable\n",
    "NEW_HOURLY_SALARY = 61\n",
    "\n",
    "print(NEW_HOURLY_SALARY)\n",
    "\n",
    "# no way to actually have a constant in python, but it just tells you when there's a problem. Doesn't let you actually have the constant. Just lets you know when you're about to make a mistake"
   ]
  }
 ],
 "metadata": {
  "kernelspec": {
   "display_name": "Python 3",
   "language": "python",
   "name": "python3"
  },
  "language_info": {
   "codemirror_mode": {
    "name": "ipython",
    "version": 3
   },
   "file_extension": ".py",
   "mimetype": "text/x-python",
   "name": "python",
   "nbconvert_exporter": "python",
   "pygments_lexer": "ipython3",
   "version": "3.12.0"
  },
  "orig_nbformat": 4
 },
 "nbformat": 4,
 "nbformat_minor": 2
}
