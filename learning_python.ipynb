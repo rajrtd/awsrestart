{
 "cells": [
  {
   "cell_type": "code",
   "execution_count": 4,
   "metadata": {},
   "outputs": [
    {
     "name": "stdout",
     "output_type": "stream",
     "text": [
      "Hello World\n"
     ]
    }
   ],
   "source": [
    "print(\"Hello World\")"
   ]
  },
  {
   "cell_type": "markdown",
   "metadata": {},
   "source": [
    "Python is an interpreted language not a compiler language"
   ]
  },
  {
   "cell_type": "code",
   "execution_count": 5,
   "metadata": {},
   "outputs": [
    {
     "name": "stdout",
     "output_type": "stream",
     "text": [
      "\n"
     ]
    }
   ],
   "source": [
    "a = input(\"What's your name?\")\n",
    "print(a)"
   ]
  },
  {
   "cell_type": "code",
   "execution_count": 6,
   "metadata": {},
   "outputs": [
    {
     "data": {
      "text/plain": [
       "str"
      ]
     },
     "execution_count": 6,
     "metadata": {},
     "output_type": "execute_result"
    }
   ],
   "source": [
    "j = \"hello world\"\n",
    "j\n",
    "type(j)"
   ]
  },
  {
   "cell_type": "code",
   "execution_count": 7,
   "metadata": {},
   "outputs": [
    {
     "name": "stdout",
     "output_type": "stream",
     "text": [
      "raj rathod\n",
      "RAJ RATHOD\n"
     ]
    }
   ],
   "source": [
    "name = \"raj rathod\"\n",
    "print(name.lower())\n",
    "print(name.upper())"
   ]
  },
  {
   "cell_type": "code",
   "execution_count": 8,
   "metadata": {},
   "outputs": [
    {
     "name": "stdout",
     "output_type": "stream",
     "text": [
      "[1, 2, 3, 4, ['Raj', 'Rathod']]\n",
      "2\n"
     ]
    }
   ],
   "source": [
    "testList = [1, 2, 3, 4, [\"Raj\", \"Rathod\"]]\n",
    "testList[0] \n",
    "#print(l[4][1])\n",
    "testList[-1] #-1 from the right to left\n",
    "testList[-2] # -2 from right to left, so this would be number 4\n",
    "len(testList)\n",
    "\n",
    "print(testList)\n",
    "\n",
    "print(len(testList[4]))"
   ]
  },
  {
   "cell_type": "code",
   "execution_count": 9,
   "metadata": {},
   "outputs": [
    {
     "data": {
      "text/plain": [
       "'!'"
      ]
     },
     "execution_count": 9,
     "metadata": {},
     "output_type": "execute_result"
    }
   ],
   "source": [
    "string = \"this is a string!\"\n",
    "string[0:4]\n",
    "string[5:7]\n",
    "string[16:17]"
   ]
  },
  {
   "cell_type": "code",
   "execution_count": 10,
   "metadata": {},
   "outputs": [
    {
     "name": "stdout",
     "output_type": "stream",
     "text": [
      "test\n"
     ]
    },
    {
     "data": {
      "text/plain": [
       "'String'"
      ]
     },
     "execution_count": 10,
     "metadata": {},
     "output_type": "execute_result"
    }
   ],
   "source": [
    "listTwo = [True]\n",
    "\n",
    "listTwo.append(\"String\") #adds to the end of the list\n",
    "\n",
    "listTwo.insert(0, \"test\") # use this to insert values at a specific place in the list\n",
    "\n",
    "print(listTwo[0])\n",
    "\n",
    "listTwo.pop() #removes what's at the last index of the list"
   ]
  },
  {
   "cell_type": "code",
   "execution_count": 39,
   "metadata": {},
   "outputs": [
    {
     "name": "stdout",
     "output_type": "stream",
     "text": [
      "[6, 5, 3, 2, 1, 0]\n"
     ]
    }
   ],
   "source": [
    "numberList = [0, 1, 5, 3, 2, 6]\n",
    "\n",
    "numberList.sort()\n",
    "\n",
    "numberList.sort(reverse=True) # Gives reverse sorted order of list from biggest to smallest.\n",
    "print(numberList)"
   ]
  },
  {
   "cell_type": "code",
   "execution_count": 40,
   "metadata": {},
   "outputs": [
    {
     "name": "stdout",
     "output_type": "stream",
     "text": [
      "[0, 1, 2, 3, 5, 6]\n",
      "[0, 1, 5, 3, 2, 6]\n"
     ]
    },
    {
     "name": "stdout",
     "output_type": "stream",
     "text": [
      "How old are you? 5\n"
     ]
    }
   ],
   "source": [
    "numberList = [0, 1, 5, 3, 2, 6]\n",
    "\n",
    "print(sorted(numberList)) # the list is printed in order but the actual list values haven't been changed | operation on in place\n",
    "print(numberList) # the actual list hasn't been changed | operation on the copy\n",
    "\n",
    "print(\"How old are you?\", input())"
   ]
  },
  {
   "cell_type": "code",
   "execution_count": 42,
   "metadata": {},
   "outputs": [
    {
     "name": "stdout",
     "output_type": "stream",
     "text": [
      "In a year you will be {some_input}\n"
     ]
    }
   ],
   "source": [
    "some_input = input()\n",
    "print(\"In a year you will be\" +str(some_input))\n",
    "# the line below and above are the same\n",
    "print(f\"In a year you will be {some_input}\") # anything in curly braces gets turned into a string. String interpolation syntax. f is flushing the string value. Force evaluation into string.\n",
    "# string interpolation is an easier form of getting something as a string.\n",
    "#  "
   ]
  },
  {
   "cell_type": "code",
   "execution_count": 44,
   "metadata": {},
   "outputs": [
    {
     "name": "stdout",
     "output_type": "stream",
     "text": [
      "61\n"
     ]
    }
   ],
   "source": [
    "HOURLY_SALARY = 50 # way to define a constant\n",
    "\n",
    "from typing import Final\n",
    "\n",
    "NEW_HOURLY_SALARY:Final[int] = 60\n",
    "# variable needs to be in all caps to be set as a constant variable\n",
    "NEW_HOURLY_SALARY = 61\n",
    "\n",
    "print(NEW_HOURLY_SALARY)\n",
    "\n",
    "# no way to actually have a constant in python, but it just tells you when there's a problem. Doesn't let you actually have the constant. Just lets you know when you're about to make a mistake"
   ]
  },
  {
   "cell_type": "markdown",
   "metadata": {},
   "source": [
    "prepare own code snippets"
   ]
  },
  {
   "cell_type": "code",
   "execution_count": 22,
   "metadata": {},
   "outputs": [
    {
     "name": "stdout",
     "output_type": "stream",
     "text": [
      "{'apples', 'pineapple', 'mangos', 'bananas', 'grapes', 'cherries'}\n",
      "{'apples'}\n",
      "{'bananas', 'cherries'}\n",
      "{'mangos', 'grapes', 'pineapple'}\n"
     ]
    }
   ],
   "source": [
    "# tuples cannot be changed?\n",
    "testTuple = (9)\n",
    "#testTuple[0] = 5\n",
    "my_tuples = (3)\n",
    "#my_tuples[0] = 2\n",
    "\n",
    "hello = (4)\n",
    "#hello[0] = 7\n",
    "\n",
    "# what defines a tuple, like is it the round brackets being used, or is it the naming convention?\n",
    "\n",
    "my_set = {\"apples\", \"bananas\", \"cherries\"}\n",
    "your_set = {\"mangos\", \"grapes\", \"pineapple\", \"apples\"}\n",
    "\n",
    "# to find items common with the left and not common with the right. A set will have additional properties to a list. It can unionize sets.\n",
    "\n",
    "union = my_set.union(your_set) \n",
    "print(union)\n",
    "\n",
    "intersection = my_set.intersection(your_set)\n",
    "print(intersection)\n",
    "\n",
    "onlyMine = my_set.difference(your_set) \n",
    "print(onlyMine) # what is printed shows what's unique to my_set\n",
    "\n",
    "onlyYours = your_set.difference(my_set)\n",
    "print(onlyYours)\n",
    "\n",
    "\n"
   ]
  },
  {
   "cell_type": "code",
   "execution_count": 31,
   "metadata": {},
   "outputs": [
    {
     "name": "stdout",
     "output_type": "stream",
     "text": [
      "{'apples', 'pineapple', 'mangos', 'bananas', 'grapes', 'cherries'}\n",
      "['apples', 'bananas', 'cherries', 'grapes', 'mangos', 'pineapple']\n"
     ]
    }
   ],
   "source": [
    "#it's clear what the intersection function is doing, can you go over what the union function is doing please?\n",
    "#cast the type of union from set into a list, \n",
    "union = my_set.union(your_set) \n",
    "print(union)\n",
    "\n",
    "print(sorted(list(union)))\n",
    "\n",
    "# to type cast in python, use round brackets e.g.\n",
    "\n",
    "x = str(2)\n",
    "y = int(\"5\")\n",
    "z = list(union)\n",
    "\n",
    "# compare hash digest\n",
    "\n",
    "\n"
   ]
  },
  {
   "cell_type": "code",
   "execution_count": 46,
   "metadata": {},
   "outputs": [
    {
     "name": "stdout",
     "output_type": "stream",
     "text": [
      "{'name': 'Raj', 'age': 24, 'height': '6\\'3\"'}\n",
      "6'3\"\n",
      "25\n"
     ]
    }
   ],
   "source": [
    "# this is an example of a dictionary\n",
    "# dictionary has pair and key values\n",
    "myInfo = {\"name\" : \"Raj\", \"age\": 24, \"height\" : \"6'3\\\"\"}\n",
    "print(myInfo)\n",
    "print(myInfo[\"height\"])\n",
    "\n",
    "myInfo[\"age\"] = myInfo[\"age\"] + 1\n",
    "\n",
    "print(myInfo[\"age\"])"
   ]
  },
  {
   "cell_type": "code",
   "execution_count": 48,
   "metadata": {},
   "outputs": [
    {
     "name": "stdout",
     "output_type": "stream",
     "text": [
      "dosa\n",
      "{'pet': 'dog', 'favefood': 'dosa', 'owners': ['Alvin', 'Jacob', 'Sean']}\n"
     ]
    }
   ],
   "source": [
    "myDict = dict()\n",
    "myDict[\"pet\"] = \"dog\"\n",
    "myDict[\"favefood\"] = \"dosa\"\n",
    "myDict[\"owners\"] = [\"Alvin\", \"Jacob\", \"Sean\"] # you can store dictionaries in dictionaries\n",
    "\n",
    "print(myDict[\"favefood\"])\n",
    "print(myDict)"
   ]
  },
  {
   "cell_type": "code",
   "execution_count": 53,
   "metadata": {},
   "outputs": [
    {
     "name": "stdout",
     "output_type": "stream",
     "text": [
      "['Alvin', 'Jacob', 'Sean']\n",
      "dosa\n",
      "dog\n",
      "Alvin\n"
     ]
    }
   ],
   "source": [
    "myDict[\"selfReference\"] = myDict\n",
    "\n",
    "print(myDict[\"selfReference\"][\"owners\"])\n",
    "print(myDict[\"selfReference\"][\"favefood\"])\n",
    "print(myDict[\"selfReference\"][\"pet\"])\n",
    "print(myDict[\"selfReference\"][\"owners\"][0])"
   ]
  },
  {
   "cell_type": "code",
   "execution_count": 59,
   "metadata": {},
   "outputs": [
    {
     "name": "stdout",
     "output_type": "stream",
     "text": [
      "reStart course notes\n",
      "\n"
     ]
    }
   ],
   "source": [
    "file = open(\"text.txt\", \"r\") # open file and enter read mode\n",
    "print(file.read())\n",
    "\n"
   ]
  },
  {
   "cell_type": "code",
   "execution_count": 66,
   "metadata": {},
   "outputs": [
    {
     "name": "stdout",
     "output_type": "stream",
     "text": [
      "reStart course notes\n",
      "\n",
      "\n",
      "\n",
      "Integration - means one of 3 things.\n",
      "\n",
      "1) configure application layer network/Configure application layer gateway\n",
      "\n",
      "2) Messaging - dealing with different types of messages differently. Message queues/bursts\n",
      "\n",
      "3) dealing with file transfer\n",
      "\n"
     ]
    }
   ],
   "source": [
    "file = open(\"text.txt\", \"r\") # open file and enter read mode\n",
    "print(file.readline())\n",
    "print(file.readline())\n",
    "print(file.readline())\n",
    "print(file.readline())\n",
    "print(file.readline())\n",
    "print(file.readline())"
   ]
  },
  {
   "cell_type": "code",
   "execution_count": 69,
   "metadata": {},
   "outputs": [
    {
     "name": "stdout",
     "output_type": "stream",
     "text": [
      "reStart course notes\n",
      "\n",
      "\n",
      "\n",
      "Integration - means one of 3 things.\n",
      "\n",
      "1) configure application layer network/Configure application layer gateway\n",
      "\n",
      "2) Messaging - dealing with different types of messages differently. Message queues/bursts\n",
      "\n",
      "3) dealing with file transfer\n",
      "\n",
      "\n",
      "\n",
      "\n",
      "\n",
      "\n",
      "\n",
      "\n",
      "\n"
     ]
    }
   ],
   "source": [
    "file = open(\"text.txt\", \"r\") # open file and enter read mode\n",
    "# for loop loops only for the amount of lines in the text file, you can name the line variable anything\n",
    "for line in file: \n",
    "    print(line)"
   ]
  },
  {
   "cell_type": "code",
   "execution_count": 70,
   "metadata": {},
   "outputs": [
    {
     "name": "stdout",
     "output_type": "stream",
     "text": [
      "RESTART COURSE NOTES\n",
      "\n",
      "\n",
      "\n",
      "INTEGRATION - MEANS ONE OF 3 THINGS.\n",
      "\n",
      "1) CONFIGURE APPLICATION LAYER NETWORK/CONFIGURE APPLICATION LAYER GATEWAY\n",
      "\n",
      "2) MESSAGING - DEALING WITH DIFFERENT TYPES OF MESSAGES DIFFERENTLY. MESSAGE QUEUES/BURSTS\n",
      "\n",
      "3) DEALING WITH FILE TRANSFER\n",
      "\n",
      "\n",
      "\n",
      "\n",
      "\n",
      "\n",
      "\n",
      "\n",
      "\n",
      "finish\n"
     ]
    }
   ],
   "source": [
    "file = open(\"text.txt\", \"r\") \n",
    "\n",
    "for line in file: \n",
    "    print(line.upper())\n",
    "print(\"finish\")\n",
    "# everything indented is in the loop\n"
   ]
  },
  {
   "cell_type": "code",
   "execution_count": 73,
   "metadata": {},
   "outputs": [
    {
     "name": "stdout",
     "output_type": "stream",
     "text": [
      "you are a dog person\n"
     ]
    }
   ],
   "source": [
    "faveAnimal = input(\"what is your favourite animal?\")\n",
    "\n",
    "if faveAnimal == \"dog\":\n",
    "    print(\"you are a dog person\")\n",
    "elif(faveAnimal == \"cat\"):\n",
    "    print(\"You are a cat person\")\n",
    "else:\n",
    "    print(\"you don't like dogs or cats\")"
   ]
  },
  {
   "cell_type": "code",
   "execution_count": 1,
   "metadata": {},
   "outputs": [],
   "source": [
    "faveAnimal = input(\"Are you a dog person or a cat person? (cat or dog)\")\n",
    "\n",
    "while (faveAnimal != \"cat\" and faveAnimal != \"dog\"):\n",
    "    print(\"Please select \\\"cat\\\" or \\\"dog\\\"\")\n",
    "    faveAnimal = input(\"Are you a dog person or a cat person? (cat or dog)\")\n",
    "    #charArray = list(faveAnimal)\n",
    "    #print(charArray)\n",
    "print(\"Thank you for picking \", faveAnimal)\n",
    "\n",
    "\n"
   ]
  },
  {
   "cell_type": "code",
   "execution_count": null,
   "metadata": {},
   "outputs": [],
   "source": [
    "fav = \"\"\n",
    "while fav != \"cat\" and fav != \"dog\":\n",
    "    fav = input(\"cat or dog\")\n",
    "    print(fav)"
   ]
  },
  {
   "cell_type": "code",
   "execution_count": null,
   "metadata": {},
   "outputs": [],
   "source": []
  },
  {
   "cell_type": "markdown",
   "metadata": {},
   "source": [
    "produce a tic-tac-toe board\n",
    "configure size of tic-tac-toe board\n",
    "if n = 2, make tic-tac-toe have 3 hyphens, if n = 3, create 3 hyphens etc.\n",
    "\n",
    "be able to save the tic-tac-toe board into a file"
   ]
  }
 ],
 "metadata": {
  "kernelspec": {
   "display_name": "Python 3",
   "language": "python",
   "name": "python3"
  },
  "language_info": {
   "codemirror_mode": {
    "name": "ipython",
    "version": 3
   },
   "file_extension": ".py",
   "mimetype": "text/x-python",
   "name": "python",
   "nbconvert_exporter": "python",
   "pygments_lexer": "ipython3",
   "version": "3.12.0"
  },
  "orig_nbformat": 4
 },
 "nbformat": 4,
 "nbformat_minor": 2
}
