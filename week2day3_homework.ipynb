{
 "cells": [
  {
   "cell_type": "code",
   "execution_count": 45,
   "metadata": {},
   "outputs": [
    {
     "name": "stdout",
     "output_type": "stream",
     "text": [
      "[104, 104, 104, 104]\n"
     ]
    }
   ],
   "source": []
  },
  {
   "cell_type": "code",
   "execution_count": 120,
   "metadata": {},
   "outputs": [
    {
     "name": "stdout",
     "output_type": "stream",
     "text": [
      "ABC XYZ !3"
     ]
    },
    {
     "data": {
      "text/plain": [
       "\"['C', 'D', 'E', ' ', 'Z', '[', '\\\\\\\\', ' ', '#', '5']\""
      ]
     },
     "execution_count": 120,
     "metadata": {},
     "output_type": "execute_result"
    }
   ],
   "source": [
    "def caesar_encrypt(input_str, n):\n",
    "   input_str = input_str.upper()\n",
    "   input_list = list(input_str) \n",
    "   int_value_list = []\n",
    "   encrypted_list = []\n",
    "   ascii_val = ord(input_list[index])\n",
    "\n",
    "   for index in range(len(input_list)):\n",
    "      if(ascii_val == 32) #if the ascii value is a space\n",
    "         int_value = ascii_val\n",
    "      elif((ascii_val + n) >= 65 and (ascii_val + n) <= 90) # if the ascii value is an upper case letter\n",
    "         int_value = ascii_val + n\n",
    "      elif((ascii_val + n) > 90) \n",
    "         temp = ascii_val + n\n",
    "      int_value_list.append(int_value)\n",
    "      encrypted_list.append(chr(int_value_list[index]))\n",
    "   return str(encrypted_list)\n",
    "\n",
    "caesar_encrypt(\"abc xyz !3\", 2)\n",
    "\n"
   ]
  },
  {
   "cell_type": "code",
   "execution_count": 68,
   "metadata": {},
   "outputs": [],
   "source": [
    "def caesar_encrypt_test(input_str):\n",
    "   input_list = list(input_str) \n",
    "   int_value_list = []\n",
    "   encrypted_list = []\n",
    "   for index in range(len(input_list)):\n",
    "      int_value = ord(input_list[index])\n",
    "      int_value_list.append(int_value)\n",
    "      encrypted_list.append(chr(int_value_list[index]))\n",
    "   print(encrypted_list)"
   ]
  },
  {
   "cell_type": "code",
   "execution_count": 85,
   "metadata": {},
   "outputs": [
    {
     "name": "stdout",
     "output_type": "stream",
     "text": [
      "['h', 'e', 'l', 'l', 'o']\n",
      "hello\n",
      "hello\n"
     ]
    }
   ],
   "source": [
    "testing = [\"h\", \"e\", \"l\", \"l\", \"o\"]\n",
    "strTesting = \"\".join(testing)\n",
    "\n",
    "msg = \"hello\"\n",
    "print(testing)\n",
    "print(strTesting)\n",
    "print(grr)"
   ]
  },
  {
   "cell_type": "code",
   "execution_count": 134,
   "metadata": {},
   "outputs": [
    {
     "name": "stdout",
     "output_type": "stream",
     "text": [
      "['A', 'B', 'C', 'D', 'E', 'F', 'G', 'H', 'I', 'J', 'K', 'L', 'M', 'N', 'O', 'P', 'Q', 'R', 'S', 'T', 'U', 'V', 'W', 'X', 'Y', 'Z']\n"
     ]
    }
   ],
   "source": [
    "initial_list = [chr(letters) for letters in range(65, 91)]\n"
   ]
  },
  {
   "cell_type": "code",
   "execution_count": 126,
   "metadata": {},
   "outputs": [
    {
     "name": "stdout",
     "output_type": "stream",
     "text": [
      "\\\n"
     ]
    }
   ],
   "source": []
  }
 ],
 "metadata": {
  "language_info": {
   "name": "python"
  }
 },
 "nbformat": 4,
 "nbformat_minor": 2
}
