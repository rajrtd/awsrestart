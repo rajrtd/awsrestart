{
 "cells": [
  {
   "cell_type": "code",
   "execution_count": 45,
   "metadata": {},
   "outputs": [
    {
     "name": "stdout",
     "output_type": "stream",
     "text": [
      "[104, 104, 104, 104]\n"
     ]
    }
   ],
   "source": []
  },
  {
   "cell_type": "code",
   "execution_count": 120,
   "metadata": {},
   "outputs": [
    {
     "name": "stdout",
     "output_type": "stream",
     "text": [
      "ABC XYZ !3"
     ]
    },
    {
     "data": {
      "text/plain": [
       "\"['C', 'D', 'E', ' ', 'Z', '[', '\\\\\\\\', ' ', '#', '5']\""
      ]
     },
     "execution_count": 120,
     "metadata": {},
     "output_type": "execute_result"
    }
   ],
   "source": [
    "def caesar_encrypt(input_str, n):\n",
    "   input_str = input_str.upper()\n",
    "   input_list = list(input_str) \n",
    "   int_value_list = []\n",
    "   encrypted_list = []\n",
    "   ascii_val = ord(input_list[index])\n",
    "\n",
    "   for index in range(len(input_list)):\n",
    "      if(ascii_val == 32) #if the ascii value is a space\n",
    "         int_value = ascii_val\n",
    "      elif((ascii_val + n) >= 65 and (ascii_val + n) <= 90) # if the ascii value is an upper case letter\n",
    "         int_value = ascii_val + n\n",
    "      elif((ascii_val + n) > 90) \n",
    "         temp = ascii_val + n\n",
    "      int_value_list.append(int_value)\n",
    "      encrypted_list.append(chr(int_value_list[index]))\n",
    "   return str(encrypted_list)\n",
    "\n",
    "caesar_encrypt(\"abc xyz !3\", 2)\n",
    "\n"
   ]
  },
  {
   "cell_type": "code",
   "execution_count": 68,
   "metadata": {},
   "outputs": [],
   "source": [
    "def caesar_encrypt_test(input_str):\n",
    "   input_list = list(input_str) \n",
    "   int_value_list = []\n",
    "   encrypted_list = []\n",
    "   for index in range(len(input_list)):\n",
    "      int_value = ord(input_list[index])\n",
    "      int_value_list.append(int_value)\n",
    "      encrypted_list.append(chr(int_value_list[index]))\n",
    "   print(encrypted_list)"
   ]
  },
  {
   "cell_type": "code",
   "execution_count": null,
   "metadata": {},
   "outputs": [],
   "source": [
    "testing = [\"h\", \"e\", \"l\", \"l\", \"o\"]\n",
    "strTesting = \"\".join(testing)\n",
    "\n",
    "msg = \"hello\"\n",
    "print(testing)\n",
    "print(strTesting)"
   ]
  },
  {
   "cell_type": "code",
   "execution_count": 134,
   "metadata": {},
   "outputs": [
    {
     "name": "stdout",
     "output_type": "stream",
     "text": [
      "['A', 'B', 'C', 'D', 'E', 'F', 'G', 'H', 'I', 'J', 'K', 'L', 'M', 'N', 'O', 'P', 'Q', 'R', 'S', 'T', 'U', 'V', 'W', 'X', 'Y', 'Z']\n"
     ]
    }
   ],
   "source": [
    "initial_list = [chr(letters) for letters in range(65, 91)]\n"
   ]
  },
  {
   "cell_type": "code",
   "execution_count": 1,
   "metadata": {},
   "outputs": [
    {
     "ename": "ZeroDivisionError",
     "evalue": "division by zero",
     "output_type": "error",
     "traceback": [
      "\u001b[1;31m---------------------------------------------------------------------------\u001b[0m",
      "\u001b[1;31mZeroDivisionError\u001b[0m                         Traceback (most recent call last)",
      "\u001b[1;32mc:\\Users\\rajra\\git\\awsrestart\\week2day3_homework.ipynb Cell 6\u001b[0m line \u001b[0;36m1\n\u001b[1;32m----> <a href='vscode-notebook-cell:/c%3A/Users/rajra/git/awsrestart/week2day3_homework.ipynb#W6sZmlsZQ%3D%3D?line=0'>1</a>\u001b[0m \u001b[39m1\u001b[39;49m \u001b[39m/\u001b[39;49m \u001b[39m0\u001b[39;49m\n",
      "\u001b[1;31mZeroDivisionError\u001b[0m: division by zero"
     ]
    }
   ],
   "source": [
    "1 / 0 # division by zero error\n"
   ]
  },
  {
   "cell_type": "code",
   "execution_count": 2,
   "metadata": {},
   "outputs": [
    {
     "ename": "NameError",
     "evalue": "name 'y' is not defined",
     "output_type": "error",
     "traceback": [
      "\u001b[1;31m---------------------------------------------------------------------------\u001b[0m",
      "\u001b[1;31mNameError\u001b[0m                                 Traceback (most recent call last)",
      "\u001b[1;32mc:\\Users\\rajra\\git\\awsrestart\\week2day3_homework.ipynb Cell 7\u001b[0m line \u001b[0;36m1\n\u001b[1;32m----> <a href='vscode-notebook-cell:/c%3A/Users/rajra/git/awsrestart/week2day3_homework.ipynb#X10sZmlsZQ%3D%3D?line=0'>1</a>\u001b[0m x \u001b[39m=\u001b[39m y \u001b[39m# y is not assigned error\u001b[39;00m\n",
      "\u001b[1;31mNameError\u001b[0m: name 'y' is not defined"
     ]
    }
   ],
   "source": [
    "x = y # y is not assigned error - nameerror"
   ]
  },
  {
   "cell_type": "code",
   "execution_count": null,
   "metadata": {},
   "outputs": [],
   "source": [
    "assert 1 == 0 #assertion error, whenever assert == false it's an assertion error, assert is testing whether something is true, if it's not it throws an error\n"
   ]
  },
  {
   "cell_type": "code",
   "execution_count": 3,
   "metadata": {},
   "outputs": [
    {
     "ename": "AssertionError",
     "evalue": "",
     "output_type": "error",
     "traceback": [
      "\u001b[1;31m---------------------------------------------------------------------------\u001b[0m",
      "\u001b[1;31mAssertionError\u001b[0m                            Traceback (most recent call last)",
      "\u001b[1;32mc:\\Users\\rajra\\git\\awsrestart\\week2day3_homework.ipynb Cell 9\u001b[0m line \u001b[0;36m5\n\u001b[0;32m      <a href='vscode-notebook-cell:/c%3A/Users/rajra/git/awsrestart/week2day3_homework.ipynb#X12sZmlsZQ%3D%3D?line=1'>2</a>\u001b[0m     \u001b[39mreturn\u001b[39;00m \u001b[39m2\u001b[39m \u001b[39m*\u001b[39m x\n\u001b[0;32m      <a href='vscode-notebook-cell:/c%3A/Users/rajra/git/awsrestart/week2day3_homework.ipynb#X12sZmlsZQ%3D%3D?line=3'>4</a>\u001b[0m \u001b[39massert\u001b[39;00m double_value(\u001b[39m1\u001b[39m) \u001b[39m==\u001b[39m \u001b[39m2\u001b[39m\n\u001b[1;32m----> <a href='vscode-notebook-cell:/c%3A/Users/rajra/git/awsrestart/week2day3_homework.ipynb#X12sZmlsZQ%3D%3D?line=4'>5</a>\u001b[0m \u001b[39massert\u001b[39;00m double_value(\u001b[39m2\u001b[39m) \u001b[39m==\u001b[39m \u001b[39m2\u001b[39m\n",
      "\u001b[1;31mAssertionError\u001b[0m: "
     ]
    }
   ],
   "source": [
    "def double_value(x):\n",
    "    return 2 * x\n",
    "\n",
    "assert double_value(1) == 2\n",
    "assert double_value(2) == 2\n"
   ]
  },
  {
   "cell_type": "code",
   "execution_count": 4,
   "metadata": {},
   "outputs": [
    {
     "name": "stdout",
     "output_type": "stream",
     "text": [
      "error\n",
      "program is operating normally\n"
     ]
    }
   ],
   "source": [
    "# We've created an error but it hasn't stopped the program from running\n",
    "\n",
    "try:\n",
    "    print(x)\n",
    "except:\n",
    "    print(\"error\")\n",
    "\n",
    "print(\"program is operating normally\")"
   ]
  },
  {
   "cell_type": "code",
   "execution_count": 15,
   "metadata": {},
   "outputs": [
    {
     "name": "stdout",
     "output_type": "stream",
     "text": [
      "error: name 'x' is not defined\n",
      "program is operating normally\n"
     ]
    }
   ],
   "source": [
    "try:\n",
    "    #print(x)\n",
    "    1 / 0\n",
    "except ZeroDivisionError as zde:\n",
    "    print(\"zero division error is caught\", zde)\n",
    "except Exception as e:\n",
    "    print(\"error:\", e)\n",
    "\n",
    "print(\"program is operating normally\")"
   ]
  },
  {
   "cell_type": "code",
   "execution_count": 22,
   "metadata": {},
   "outputs": [
    {
     "name": "stdout",
     "output_type": "stream",
     "text": [
      "Division was successful\n",
      "0.6666666666666666\n",
      "unsupported operand type(s) for /: 'str' and 'str'\n"
     ]
    }
   ],
   "source": [
    "def divide_numbers(x, y):\n",
    "    try:\n",
    "        results = x / y\n",
    "    except ZeroDivisionError as zde:\n",
    "        print(\"You cannot divide by 0\")\n",
    "    except Exception as e:\n",
    "        print(e)\n",
    "    else:\n",
    "        print(\"Division was successful\")\n",
    "        return results\n",
    "\n",
    "print(divide_numbers(2, 3))\n",
    "divide_numbers(\"one\", \"two\")\n",
    "\n",
    "#divide_numbers(1, 0)\n"
   ]
  }
 ],
 "metadata": {
  "kernelspec": {
   "display_name": "Python 3",
   "language": "python",
   "name": "python3"
  },
  "language_info": {
   "codemirror_mode": {
    "name": "ipython",
    "version": 3
   },
   "file_extension": ".py",
   "mimetype": "text/x-python",
   "name": "python",
   "nbconvert_exporter": "python",
   "pygments_lexer": "ipython3",
   "version": "3.12.0"
  }
 },
 "nbformat": 4,
 "nbformat_minor": 2
}
