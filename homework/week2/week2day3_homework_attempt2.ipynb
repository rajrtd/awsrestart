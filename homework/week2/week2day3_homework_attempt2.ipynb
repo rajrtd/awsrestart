{
 "cells": [
  {
   "cell_type": "code",
   "execution_count": 12,
   "metadata": {},
   "outputs": [
    {
     "ename": "SyntaxError",
     "evalue": "invalid syntax (1665729375.py, line 6)",
     "output_type": "error",
     "traceback": [
      "\u001b[1;36m  Cell \u001b[1;32mIn[12], line 6\u001b[1;36m\u001b[0m\n\u001b[1;33m    new_str =\u001b[0m\n\u001b[1;37m              ^\u001b[0m\n\u001b[1;31mSyntaxError\u001b[0m\u001b[1;31m:\u001b[0m invalid syntax\n"
     ]
    }
   ],
   "source": [
    "# Make it so the shifts couldn't be more than 25, or only deals when n <= 25\n",
    "def caesar_encrypt(str_input, n):\n",
    "    str_input = str_input.upper()\n",
    "    initial_list = [chr(letters) for letters in range(65, 91)]\n",
    "    my_dict = {}\n",
    "    for i in str_input:\n",
    "        if(i)\n",
    "    print(new_str)\n",
    "\n",
    "caesar_encrypt(\"test\", 1)\n",
    "    \n"
   ]
  },
  {
   "cell_type": "code",
   "execution_count": 11,
   "metadata": {},
   "outputs": [
    {
     "name": "stdout",
     "output_type": "stream",
     "text": [
      "\n",
      "\n",
      "\n",
      "\n",
      "\n",
      "{'test': 'hello'}\n"
     ]
    }
   ],
   "source": [
    "msg = \"hello\"\n",
    "\n",
    "for i in msg:\n",
    "    print()\n",
    "\n",
    "my_dict = {}\n",
    "\n",
    "my_dict[\"test\"] = \"hello\"\n",
    "\n",
    "print(my_dict)\n"
   ]
  }
 ],
 "metadata": {
  "kernelspec": {
   "display_name": "Python 3",
   "language": "python",
   "name": "python3"
  },
  "language_info": {
   "codemirror_mode": {
    "name": "ipython",
    "version": 3
   },
   "file_extension": ".py",
   "mimetype": "text/x-python",
   "name": "python",
   "nbconvert_exporter": "python",
   "pygments_lexer": "ipython3",
   "version": "3.12.0"
  }
 },
 "nbformat": 4,
 "nbformat_minor": 2
}
