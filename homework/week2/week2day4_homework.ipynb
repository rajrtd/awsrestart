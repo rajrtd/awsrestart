{
 "cells": [
  {
   "cell_type": "markdown",
   "metadata": {},
   "source": [
    "# Homework 3"
   ]
  },
  {
   "cell_type": "code",
   "execution_count": 35,
   "metadata": {},
   "outputs": [
    {
     "name": "stdout",
     "output_type": "stream",
     "text": [
      "Testing encryption\n"
     ]
    }
   ],
   "source": [
    "from Crypto.Protocol.KDF import PBKDF2\n",
    "from Crypto.Cipher import AES\n",
    "from Crypto.Random import get_random_bytes\n",
    "\n",
    "key = get_random_bytes(32)\n",
    "data_to_encrypt = 'Testing encryption'\n",
    "\n",
    "data = data_to_encrypt.encode('utf-8')\n",
    "\n",
    "cipher_encrypt = AES.new(key, AES.MODE_CFB)\n",
    "ciphered_bytes = cipher_encrypt.encrypt(data)\n",
    "\n",
    "iv = cipher_encrypt.iv\n",
    "ciphered_data = ciphered_bytes\n",
    "\n",
    "cipher_decrypt = AES.new(key, AES.MODE_CFB, iv = iv)\n",
    "deciphered_bytes = cipher_decrypt.decrypt(ciphered_data)\n",
    "\n",
    "decrypted_data = deciphered_bytes.decode(\"utf-8\")\n",
    "\n",
    "print(decrypted_data)\n",
    "\n",
    "assert data_to_encrypt == decrypted_data"
   ]
  },
  {
   "cell_type": "markdown",
   "metadata": {},
   "source": [
    "# Homework 4"
   ]
  },
  {
   "cell_type": "code",
   "execution_count": null,
   "metadata": {},
   "outputs": [],
   "source": [
    "from Crypto.PublicKey import RSA\n",
    "\n",
    "key = RSA.generate(2048)\n",
    "f = open('mykey.pem', 'wb')\n"
   ]
  }
 ],
 "metadata": {
  "kernelspec": {
   "display_name": "Python 3",
   "language": "python",
   "name": "python3"
  },
  "language_info": {
   "codemirror_mode": {
    "name": "ipython",
    "version": 3
   },
   "file_extension": ".py",
   "mimetype": "text/x-python",
   "name": "python",
   "nbconvert_exporter": "python",
   "pygments_lexer": "ipython3",
   "version": "3.12.0"
  }
 },
 "nbformat": 4,
 "nbformat_minor": 2
}
