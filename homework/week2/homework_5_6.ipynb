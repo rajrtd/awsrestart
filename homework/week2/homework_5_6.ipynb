{
 "cells": [
  {
   "cell_type": "markdown",
   "metadata": {},
   "source": [
    "# Homework 5"
   ]
  },
  {
   "cell_type": "code",
   "execution_count": null,
   "metadata": {},
   "outputs": [],
   "source": [
    "class Car:\n",
    "    def __init__(self, brand, mileage_km):\n",
    "        self.brand=brand\n",
    "        self.mileage_km=mileage_km\n",
    "\n",
    "    def drive(self, distance_km):\n",
    "        self.mileage_km += distance_km\n",
    "\n",
    "my_car = Car(brand = \"Toyota\", mileage_km = 20000)\n",
    "\n",
    "class ElectricCar(Car):\n",
    "    def __init__(self, brand, mileage_km, range):\n",
    "        super().__init__(brand, mileage_km)\n",
    "        self.range=range\n",
    "\n",
    "    def drive(self, distance_km):\n",
    "        self.mileage_km += distance_km\n",
    "        self.range -= distance_km    \n",
    "    #pass # allows you to bypass having to define functions and classes\n",
    "\n",
    "my_ev = ElectricCar(brand = \"Tesla\", mileage_km = 10000, range=400000)\n",
    "my_ev.drive(1000)\n",
    "print(my_ev.__dict__)\n",
    "my_ev.drive(3000)\n",
    "print(my_ev.__dict__)\n",
    "\n",
    "class IceCar(Car):\n",
    "    def __init__(self, brand, mileage_km, fuel_consumption, fuel_level):\n",
    "        super().__init__(brand, mileage_km)\n",
    "        self.fuel_consumption = fuel_consumption\n",
    "        self.fuel_level = fuel_level\n",
    "\n",
    "    def drive(self, distance_km):\n",
    "        self.mileage_km += distance_km\n",
    "        self.fuel_level -= distance_km * self.fuel_consumption / 100\n",
    "\n",
    "\n",
    "my_ice_car = IceCar(brand = \"Ferrari\", mileage_km = 1000, fuel_consumption = 30, fuel_level = 33)"
   ]
  },
  {
   "cell_type": "markdown",
   "metadata": {},
   "source": [
    "# Homework 6"
   ]
  },
  {
   "cell_type": "code",
   "execution_count": 2,
   "metadata": {},
   "outputs": [],
   "source": [
    "class Shape():\n",
    "    def area():\n",
    "        pass"
   ]
  },
  {
   "cell_type": "code",
   "execution_count": 32,
   "metadata": {},
   "outputs": [],
   "source": [
    "class Triangle(Shape):\n",
    "    def __init__(self, a, b, c, height):\n",
    "        self.a = a\n",
    "        self.b = b\n",
    "        self.c = c\n",
    "        self.height = height\n",
    "        assert self.a + self.b > self.c, \"This is not a valid triangle\"\n",
    "\n",
    "    def area(self):\n",
    "        return 1/2 * self.b * self.height"
   ]
  },
  {
   "cell_type": "code",
   "execution_count": null,
   "metadata": {},
   "outputs": [],
   "source": [
    "my_triangle = Triangle(5, 5, 7, 6)\n",
    "my_second_triangle = Triangle(6, 7, 8, 9)\n",
    "my_third_triangle = Triangle (4, 4, 3, 4)\n",
    "\n",
    "print(my_triangle.area())\n",
    "print(my_second_triangle.area())\n",
    "print(my_third_triangle.area())"
   ]
  },
  {
   "cell_type": "code",
   "execution_count": null,
   "metadata": {},
   "outputs": [],
   "source": [
    "import math\n",
    "\n",
    "class Circle(Shape):\n",
    "    def __init__(self, circumference, diameter, radius):\n",
    "        self.circumference = circumference\n",
    "        self.diameter = diameter\n",
    "        self.radius = radius\n",
    "        assert self.circumference > self.diameter and self.radius == (1/2 * self.diameter), \"This is not a valid circle\"\n",
    "\n",
    "    def area(self):\n",
    "        return math.pi * (self.radius * self.radius)"
   ]
  },
  {
   "cell_type": "code",
   "execution_count": null,
   "metadata": {},
   "outputs": [],
   "source": [
    "my_circle = Circle(60, 30, 15)\n",
    "my_second_circle = Circle(20, 10, 5)\n",
    "my_third_circle = Circle(40, 20, 10)\n",
    "\n",
    "print(my_circle.area())\n",
    "print(my_second_circle.area())\n",
    "print(my_third_circle.area())"
   ]
  },
  {
   "cell_type": "code",
   "execution_count": 9,
   "metadata": {},
   "outputs": [],
   "source": [
    "class Square(Shape):\n",
    "    def __init__(self, length, width, angle):\n",
    "        self.length = length\n",
    "        self.width = width\n",
    "        self.angle = angle\n",
    "        assert self.angle == 90 and self.length == self.width, \"This is not a valid square\"\n",
    "\n",
    "    def area(self):\n",
    "        return self.length * self.width\n",
    "    \n",
    "my_square = Square(5, 5, 90)\n",
    "my_second_square = Square(6, 6, 90)\n",
    "my_third_square = Square(7, 7, 90)"
   ]
  },
  {
   "cell_type": "code",
   "execution_count": null,
   "metadata": {},
   "outputs": [],
   "source": [
    "class Rectangle(Shape):\n",
    "    def __init__(self, length, width, angle):\n",
    "        self.length = length\n",
    "        self.width = width\n",
    "        self.angle = angle\n",
    "        assert self.angle == 90 and self.width > self.length, \"This is not a valid rectangle\"\n",
    "\n",
    "    def area(self):\n",
    "        return self.length * self.width\n",
    "\n",
    "my_rectangle = Rectangle(5, 6, 90)\n",
    "my_second_rectangle = Rectangle(6, 7, 90)\n",
    "my_third_rectangle = Rectangle(7, 8, 90)"
   ]
  }
 ],
 "metadata": {
  "kernelspec": {
   "display_name": "Python 3",
   "language": "python",
   "name": "python3"
  },
  "language_info": {
   "codemirror_mode": {
    "name": "ipython",
    "version": 3
   },
   "file_extension": ".py",
   "mimetype": "text/x-python",
   "name": "python",
   "nbconvert_exporter": "python",
   "pygments_lexer": "ipython3",
   "version": "3.12.0"
  }
 },
 "nbformat": 4,
 "nbformat_minor": 2
}
